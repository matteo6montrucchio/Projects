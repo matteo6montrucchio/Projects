{
 "cells": [
  {
   "cell_type": "markdown",
   "id": "5c9fabf3",
   "metadata": {},
   "source": [
    "# THE TRAVEL AGENCY\n",
    "\n",
    "In the following notebook, I will handle files, implement object-oriented programming (OOP) principles, and perform operations such as managing hotels, processing room reservations, and maintaining guest records."
   ]
  },
  {
   "cell_type": "markdown",
   "id": "8e4938c7",
   "metadata": {},
   "source": [
    "# Hotel Class:\n",
    "\n",
    "The first class that I am going to implement is the Hotel Class where I will initiate all the attributes regarding an hotel (ID, name, location, contact, star, available rooms) and I will implement some basic methods to change the number of available rooms or get some attributes values. In addition, in the hotel class, I have also decided to implement a write_file function that it will be helpful in the menu."
   ]
  },
  {
   "cell_type": "code",
   "execution_count": 1,
   "id": "61e44bb7",
   "metadata": {},
   "outputs": [],
   "source": [
    "class Hotel:\n",
    "    def __init__(self, ID):\n",
    "        self.ID = ID \n",
    "        self.name = None\n",
    "        self.location = None\n",
    "        self.contact = None\n",
    "        self.star = None\n",
    "        self.av_rooms = None\n",
    "        \n",
    "    def add_information(self, name, location, contact, star, available_rooms):\n",
    "        self.name = name\n",
    "        self.location = location\n",
    "        self.contact = contact\n",
    "        self.star = star\n",
    "        self.av_rooms = available_rooms\n",
    "    \n",
    "    def update_availablerooms(self, new_availablerooms):\n",
    "        self.av_rooms = new_availablerooms\n",
    "        \n",
    "    def get_information(self):\n",
    "        return print(f\"ID : {self.ID}\\nName : {self.name}\\nLocation : {self.location}\\nContact : {self.contact}\\nStar : {self.star}\\nAvailable Rooms : {self.av_rooms}\")\n",
    "    \n",
    "    def get_ID(self):\n",
    "        return self.ID\n",
    "    \n",
    "    def get_availablerooms(self):\n",
    "        return self.av_rooms\n",
    "    \n",
    "    def get_star(self):\n",
    "        return self.star\n",
    "    \n",
    "    def write_file(self):\n",
    "        return f\"ID : {self.ID}, Name : {self.name}, Location : {self.location}, Contact : {self.contact}, Star : {self.star}, Available Rooms : {self.av_rooms}\"       "
   ]
  },
  {
   "cell_type": "markdown",
   "id": "d69ba728",
   "metadata": {},
   "source": [
    "I will now create a file with all the information of the different hotels.\n",
    "\n",
    "The file has been created inside the jupyter environment."
   ]
  },
  {
   "cell_type": "code",
   "execution_count": 2,
   "id": "58e6f9a3",
   "metadata": {},
   "outputs": [],
   "source": [
    "f = open(\"hotels_booking_system.txt\", \"w\")\n",
    "f.write(\"ID : 45125, HOTEL : Special, Location : Torino, Contact : special@gmail.com, Star : 4, Available Rooms : 10\\n\")\n",
    "f.write(\"ID : 67325, HOTEL : Hilton, Location : Dubai, Contact : hilton@gmail.com, Star : 4, Available Rooms : 24\\n\")\n",
    "f.write(\"ID : 38903, HOTEL : Princess, Location : Milano, Contact : princess@gmail.com, Star : 3, Available Rooms : 14\\n\")\n",
    "f.write(\"ID : 12794, HOTEL : Flyhigh, Location : New York, Contact : flyhigh@gmail.com, Star : 5, Available Rooms : 3\\n\")\n",
    "f.write(\"ID : 36903, HOTEL : Master, Location : Tokyo, Contact : master@gmail.com, Star : 5, Available Rooms : 5\")\n",
    "f.close()"
   ]
  },
  {
   "cell_type": "markdown",
   "id": "ed6814c0",
   "metadata": {},
   "source": [
    "I will now print all the information of the different hotels that are inside the file."
   ]
  },
  {
   "cell_type": "code",
   "execution_count": 3,
   "id": "9eb653cc",
   "metadata": {},
   "outputs": [
    {
     "name": "stdout",
     "output_type": "stream",
     "text": [
      "[ 0 ] ID : 45125, HOTEL : Special, Location : Torino, Contact : special@gmail.com, Star : 4, Available Rooms : 10\n",
      "\n",
      "[ 1 ] ID : 67325, HOTEL : Hilton, Location : Dubai, Contact : hilton@gmail.com, Star : 4, Available Rooms : 24\n",
      "\n",
      "[ 2 ] ID : 38903, HOTEL : Princess, Location : Milano, Contact : princess@gmail.com, Star : 3, Available Rooms : 14\n",
      "\n",
      "[ 3 ] ID : 12794, HOTEL : Flyhigh, Location : New York, Contact : flyhigh@gmail.com, Star : 5, Available Rooms : 3\n",
      "\n",
      "[ 4 ] ID : 36903, HOTEL : Master, Location : Tokyo, Contact : master@gmail.com, Star : 5, Available Rooms : 5\n"
     ]
    }
   ],
   "source": [
    "i = 0\n",
    "f = open(\"hotels_booking_system.txt\", \"r\")\n",
    "row = f.readline()\n",
    "print(\"[\", i, \"]\", row, end=\"\")\n",
    "print()\n",
    "while row: # until there are rows\n",
    "    row = f.readline()\n",
    "    if row: # if there is a row\n",
    "        i = i + 1\n",
    "        print(\"[\", i, \"]\", row, end='')\n",
    "        print()\n",
    "f.close()   "
   ]
  },
  {
   "cell_type": "markdown",
   "id": "b976bc4b",
   "metadata": {},
   "source": [
    "I create the different objects of the class Hotel by using the same information of the text file and after that I insert the different objects isnide a list that is going to be modified by the implementation of the menu."
   ]
  },
  {
   "cell_type": "code",
   "execution_count": 4,
   "id": "40d1d1eb",
   "metadata": {},
   "outputs": [],
   "source": [
    "hotel1 = Hotel(45125)\n",
    "hotel1.add_information(\"Special\", \"Torino\", \"special@gmail.com\", \"4\", \"10\")\n",
    "\n",
    "hotel2 = Hotel(67325)\n",
    "hotel2.add_information(\"Hilton\", \"Dubai\", \"hilton@gmail.com\", \"4\", \"24\")\n",
    "\n",
    "hotel3 = Hotel(38903)\n",
    "hotel3.add_information(\"Princess\", \"Milano\", \"princess@gmail.com\", \"3\", \"14\")\n",
    "\n",
    "hotel4 = Hotel(12794)\n",
    "hotel4.add_information(\"Flyhigh\", \"New York\", \"flyhigh@gmail.com\", \"5\", \"3\")\n",
    "\n",
    "hotel5 = Hotel(36903)\n",
    "hotel5.add_information(\"Master\", \"Tokyo\", \"master@gmail.com\", \"5\", \"5\")"
   ]
  },
  {
   "cell_type": "code",
   "execution_count": 5,
   "id": "6d080292",
   "metadata": {},
   "outputs": [],
   "source": [
    "list_hotels = [hotel1, hotel2, hotel3, hotel4, hotel5]"
   ]
  },
  {
   "cell_type": "markdown",
   "id": "5728af39",
   "metadata": {},
   "source": [
    "The menu displays several functions:\n",
    "    \n",
    "- _display function: it shows all the information regarding the hotels inside the list. It calls the hotel.get_information function that has been defined in the Hotel Class.\n",
    "\n",
    "- _add function: it adds a new hotel to the list.\n",
    "\n",
    "- _delete function: it deletes a hotel from the list. Before doing so, it checks that the ID of the hotel you want to eliminate actually corresponds with one inside the list.\n",
    "\n",
    "- _update_availablerooms function: it updates the number of available rooms for a hotel.\n",
    "\n",
    "- _save function: it saves the list of hotels to a file (this will update on disk any change you made)."
   ]
  },
  {
   "cell_type": "code",
   "execution_count": 6,
   "id": "c1abdde4",
   "metadata": {
    "scrolled": false
   },
   "outputs": [
    {
     "name": "stdout",
     "output_type": "stream",
     "text": [
      "\n",
      "Press 1 to display the hotels and their information\n",
      "Press 2 to add a new hotel\n",
      "Press 3 to remove a hotel\n",
      "Press 4 to update the number of available rooms\n",
      "Press 5 to save the list of hotels to a file (this will update on disk any change you made)\n",
      "Press 6 to exit the program\n",
      "\n",
      "Introduce a number between 1 and 6 -> 6\n",
      "\n",
      "Goodbye!\n"
     ]
    }
   ],
   "source": [
    "OK = 0\n",
    "FAILURE = -1\n",
    "\n",
    "MIN = 1\n",
    "MAX = 6\n",
    "\n",
    "DISPLAY = 1 \n",
    "ADD = 2 \n",
    "DELETE = 3 \n",
    "UPDATE_ROOMS = 4 \n",
    "SAVE = 5 \n",
    "EXIT = 6\n",
    "\n",
    "def _display(): \n",
    "    \n",
    "    print(\"You have invoked the display function!\")\n",
    "    print()\n",
    "    for hotel in list_hotels:\n",
    "        print(hotel.get_information())\n",
    "        print()\n",
    "    return OK\n",
    "        \n",
    "def _add(): \n",
    "    \n",
    "    global list_hotels \n",
    "    print(\"You have invoked the add function!\")\n",
    "    print()\n",
    "    approved = False\n",
    "    while approved == False: # validation of the ID\n",
    "        string = input(\"Introduce an ID for the new hotel -> \")\n",
    "        if string.isdigit() == False:\n",
    "            print(string, \"does not meet the requirement for a hotel ID, please try again!\")\n",
    "            approved = False\n",
    "        else:\n",
    "            approved = True\n",
    "    ID = int(string)\n",
    "    hotel = Hotel(ID)\n",
    "    name = input(\"Please introduce the name of the hotel --> \")\n",
    "    location = input(\"Please introduce the location of the hotel --> \")\n",
    "    contact = input(\"Please introduce the contact of the hotel --> \")\n",
    "    star = input(\"Please introduce how many stars the hotel has --> \")\n",
    "    available_rooms = input(\"Please introduce the amount of available rooms in the hotel --> \")\n",
    "    hotel.add_information(name, location, contact, star, available_rooms)\n",
    "    list_hotels.append(hotel)    \n",
    "    return OK\n",
    "    \n",
    "def _delete():\n",
    "    \n",
    "    global list_hotels\n",
    "    print(\"You have invoked the delete function!\")\n",
    "    print()\n",
    "    approved = False\n",
    "    while approved == False:\n",
    "        string = input(\"Introduce an ID for the hotel you want to eliminate -> \")\n",
    "        if string.isdigit() == False:\n",
    "            print(string, \"does not meet the requirement for a hotel ID, please try again!\")\n",
    "            approved = False\n",
    "        else:\n",
    "            approved = True\n",
    "    ID = int(string)\n",
    "    for hotel in list_hotels: # I will check the ID of every hotel in the list\n",
    "        if ID == hotel.get_ID():\n",
    "            list_hotels.remove(hotel)\n",
    "            print(f\"The hotel with the ID {ID} has been eliminated\")\n",
    "            return OK\n",
    "            break\n",
    "    \n",
    "    print(f\"There is no hotel with {ID} as the ID\")\n",
    "    return FAILURE\n",
    "\n",
    "def _update_availablerooms(): \n",
    "    \n",
    "    global list_hotels\n",
    "    print(\"You have invoked the update available rooms function!\")\n",
    "    print()\n",
    "    approved = False\n",
    "    while approved == False:\n",
    "        string = input(\"Introduce an ID for the hotel you want to change the number of available rooms -> \")\n",
    "        if string.isdigit() == False:\n",
    "            print(string, \"does not meet the requirement for a hotel ID, please try again!\")\n",
    "            approved = False\n",
    "        else:\n",
    "            approved = True\n",
    "    ID = int(string)\n",
    "    for hotel in list_hotels:\n",
    "        if ID == hotel.get_ID():\n",
    "            item = input(\"Insert the new number of available rooms for the hotel -->  \")\n",
    "            hotel.update_availablerooms(item)\n",
    "            print(f\"The hotel with the ID {ID} has now {item} available rooms\")\n",
    "            return OK\n",
    "            break\n",
    "    \n",
    "    print(f\"There is no hotel with {ID} as the ID\")\n",
    "    return FAILURE\n",
    "\n",
    "def _save(): \n",
    "    \n",
    "    print(\"You have invoked the save function!\")\n",
    "    print(\"The changes you have made are now saved into the file hotels_booking_system_updated.txt\")\n",
    "    f = open(\"hotels_booking_system_updated.txt\", \"w\")\n",
    "    for hotel in list_hotels:\n",
    "        f.write(hotel.write_file() + \"\\n\")\n",
    "    f.close()\n",
    "    return OK    \n",
    "\n",
    "def menu():\n",
    "    \n",
    "    print(\"Press 1 to display the hotels and their information\")\n",
    "    print(\"Press 2 to add a new hotel\")\n",
    "    print(\"Press 3 to remove a hotel\")\n",
    "    print(\"Press 4 to update the number of available rooms\")\n",
    "    print(\"Press 5 to save the list of hotels to a file (this will update on disk any change you made)\")\n",
    "    print(\"Press 6 to exit the program\")\n",
    "    \n",
    "def validate(choice):\n",
    "    \n",
    "    if choice.isdigit() != True:\n",
    "        return FAILURE, choice\n",
    "    \n",
    "    choice = int(choice)\n",
    "    \n",
    "    if choice >= MIN and choice <= MAX:\n",
    "        return OK, choice\n",
    "    else: \n",
    "        return FAILURE, choice\n",
    "\n",
    "def _input():\n",
    "    \n",
    "    response = FAILURE \n",
    "    item = MAX\n",
    "    while response == FAILURE:\n",
    "        print()\n",
    "        menu()\n",
    "        print()\n",
    "        input_message = \"Introduce a number between \"+ str(MIN) + \" and \"+ str(MAX) + \" -> \"\n",
    "        item = input(input_message)\n",
    "        response, item = validate(item)\n",
    "        if response == FAILURE:\n",
    "            print()\n",
    "            print(f\"The input {item} is not correct, try again!\")\n",
    "            print()\n",
    "    \n",
    "    return item\n",
    "\n",
    "action = _input()\n",
    "while action >= MIN and action <= MAX:\n",
    "    print()\n",
    "    if action == DISPLAY:\n",
    "        _display()\n",
    "    else:\n",
    "        if action == ADD:\n",
    "            _add()\n",
    "        else:\n",
    "            if action == DELETE:\n",
    "                _delete()\n",
    "            else:\n",
    "                if action == UPDATE_ROOMS:\n",
    "                    _update_availablerooms()\n",
    "                else:\n",
    "                    if action == SAVE:\n",
    "                        _save()\n",
    "                    else:\n",
    "                        print(\"Goodbye!\")\n",
    "                        break\n",
    "    action = _input()"
   ]
  },
  {
   "cell_type": "markdown",
   "id": "3283bd35",
   "metadata": {},
   "source": [
    "# GUEST\n",
    "\n",
    "The second class that I am going to implement is the Guest Class where I will initiate all the attributes regarding a guest (ID, name, contact) and I will implement some basic methods to get back some attributes values. In addition, in the guest class, I have also decided to implement a write_file function that it will be helpful in the menu. I have decided to implement the methods \"book a room\" and \"check reservation history\" later on."
   ]
  },
  {
   "cell_type": "code",
   "execution_count": 7,
   "id": "757e3d8a",
   "metadata": {},
   "outputs": [],
   "source": [
    "class Guest:\n",
    "    def __init__(self, ID):\n",
    "        self.ID = ID \n",
    "        self.name = None\n",
    "        self.contact = None\n",
    "        \n",
    "    def add_information(self, name, contact):\n",
    "        self.name = name\n",
    "        self.contact = contact\n",
    "       \n",
    "    def get_information(self):\n",
    "        return print(f\"ID : {self.ID}\\nName : {self.name}\\nContact : {self.contact}\")\n",
    "    \n",
    "    def write_file(self):\n",
    "        return f\"ID : {self.ID}, Name : {self.name}, Contact : {self.contact}\"\n",
    "    \n",
    "    def get_ID(self):\n",
    "        return self.ID\n",
    "    \n",
    "    def get_name(self):\n",
    "        return self.name"
   ]
  },
  {
   "cell_type": "markdown",
   "id": "a5712f5b",
   "metadata": {},
   "source": [
    "I will now create a file with all the guests information.\n",
    "\n",
    "The file has been created inside the jupyter environment."
   ]
  },
  {
   "cell_type": "code",
   "execution_count": 8,
   "id": "9de8bd9a",
   "metadata": {},
   "outputs": [],
   "source": [
    "f = open(\"guests_booking_system.txt\", \"w\")\n",
    "f.write(\"ID : 1, NAME : Matteo, Contact : matteo@gmail.com\\n\")\n",
    "f.write(\"ID : 2, NAME : Francesco, Contact : francesco@gmail.com\\n\")\n",
    "f.write(\"ID : 3, NAME : Antonio, Contact : antonio@gmail.com\\n\")\n",
    "f.write(\"ID : 4, NAME : Eleonora, Contact : eleonora@gmail.com\\n\")\n",
    "f.write(\"ID : 5, NAME : Cecilia, Contact : cecilia@gmail.com\")\n",
    "f.close()"
   ]
  },
  {
   "cell_type": "code",
   "execution_count": 9,
   "id": "220ab50a",
   "metadata": {},
   "outputs": [
    {
     "name": "stdout",
     "output_type": "stream",
     "text": [
      "[ 0 ] ID : 1, NAME : Matteo, Contact : matteo@gmail.com\n",
      "\n",
      "[ 1 ] ID : 2, NAME : Francesco, Contact : francesco@gmail.com\n",
      "\n",
      "[ 2 ] ID : 3, NAME : Antonio, Contact : antonio@gmail.com\n",
      "\n",
      "[ 3 ] ID : 4, NAME : Eleonora, Contact : eleonora@gmail.com\n",
      "\n",
      "[ 4 ] ID : 5, NAME : Cecilia, Contact : cecilia@gmail.com\n"
     ]
    }
   ],
   "source": [
    "i = 0\n",
    "f = open(\"guests_booking_system.txt\", \"r\")\n",
    "row = f.readline()\n",
    "print(\"[\", i, \"]\", row, end=\"\")\n",
    "print()\n",
    "while row: # until there are rows\n",
    "    row = f.readline()\n",
    "    if row:\n",
    "        i = i + 1\n",
    "        print(\"[\", i, \"]\", row, end='')\n",
    "        print()\n",
    "f.close() "
   ]
  },
  {
   "cell_type": "markdown",
   "id": "be664c3d",
   "metadata": {},
   "source": [
    "I create the different objects of the class Hotel by using the same information of the text file and after that I insert the different objects isnide a list that is going to be modified by the implementation of the menu."
   ]
  },
  {
   "cell_type": "code",
   "execution_count": 10,
   "id": "e7091697",
   "metadata": {},
   "outputs": [],
   "source": [
    "guest1 = Guest(1)\n",
    "guest1.add_information(\"Matteo\", \"matteo@gmail.com\")\n",
    "\n",
    "guest2 = Guest(2)\n",
    "guest2.add_information(\"Francesco\", \"francesco@gmail.com\")\n",
    "\n",
    "guest3 = Guest(3)\n",
    "guest3.add_information(\"Antonio\", \"antonio@gmail.com\")\n",
    "\n",
    "guest4 = Guest(4)\n",
    "guest4.add_information(\"Eleonora\", \"eleonora@gmail.com\")\n",
    "\n",
    "guest5 = Guest(5)\n",
    "guest5.add_information(\"Cecilia\", \"cecilia@gmail.com\")"
   ]
  },
  {
   "cell_type": "code",
   "execution_count": 11,
   "id": "a36f176c",
   "metadata": {},
   "outputs": [],
   "source": [
    "list_guests = [guest1, guest2, guest3, guest4, guest5]"
   ]
  },
  {
   "cell_type": "markdown",
   "id": "d99fbc68",
   "metadata": {},
   "source": [
    "The menu displays several functions:\n",
    "    \n",
    "- _display function: it shows all the information regarding the guests inside the list. It calls the guest.get_information function that has been defined in the Guest Class.\n",
    "\n",
    "- _add function: it adds a new guest to the list.\n",
    "\n",
    "- _delete function: it deletes a guest from the list. Before doing so, it checks that the ID of the guest you want to eliminate actually corresponds with one inside the list.\n",
    "\n",
    "- _save function: it saves the list of guests to a file (this will update on disk any change you made)."
   ]
  },
  {
   "cell_type": "code",
   "execution_count": 12,
   "id": "fe6eda67",
   "metadata": {},
   "outputs": [
    {
     "name": "stdout",
     "output_type": "stream",
     "text": [
      "\n",
      "Press 1 to display the guests and their information\n",
      "Press 2 to add a new guest\n",
      "Press 3 to remove a guest\n",
      "Press 4 to save the list of guests to a file (this will update on disk any change you made)\n",
      "Press 5 to exit the program\n",
      "\n",
      "Introduce a number between 1 and 5 -> 5\n",
      "\n",
      "Goodbye!\n"
     ]
    }
   ],
   "source": [
    "OK = 0\n",
    "FAILURE = -1\n",
    "\n",
    "MIN = 1\n",
    "MAX = 5\n",
    "\n",
    "DISPLAY = 1 \n",
    "ADD = 2 \n",
    "DELETE = 3 \n",
    "SAVE = 4 \n",
    "EXIT = 5\n",
    "\n",
    "def _display(): \n",
    "    \n",
    "    print(\"You have invoked the display function!\")\n",
    "    print()\n",
    "    for guest in list_guests:\n",
    "        print(guest.get_information())\n",
    "        print()\n",
    "    return OK\n",
    "        \n",
    "def _add(): \n",
    "    \n",
    "    global list_guests \n",
    "    print(\"You have invoked the add function!\")\n",
    "    print()\n",
    "    approved = False\n",
    "    while approved == False:\n",
    "        string = input(\"Introduce an ID for the new guest -> \")\n",
    "        if string.isdigit() == False:\n",
    "            print(string, \"does not meet the requirement for a guest ID, please try again!\")\n",
    "            approved = False\n",
    "        else:\n",
    "            approved = True\n",
    "    ID = int(string)   \n",
    "    guest = Guest(ID)\n",
    "    name = input(\"Please introduce the name of the guest --> \")\n",
    "    contact = input(\"Please introduce the contact of the guest --> \")\n",
    "    guest.add_information(name, contact)\n",
    "    list_guests.append(guest)      \n",
    "    return OK\n",
    "    \n",
    "def _delete(): \n",
    "    \n",
    "    global list_guests\n",
    "    print(\"You have invoked the delete function!\")\n",
    "    print()\n",
    "    approved = False\n",
    "    while approved == False:\n",
    "        string = input(\"Introduce an ID for the guest you want to eliminate -> \")\n",
    "        if string.isdigit() == False:\n",
    "            print(string, \"does not meet the requirement for a guest ID, please try again!\")\n",
    "            approved = False\n",
    "        else:\n",
    "            approved = True\n",
    "    ID = int(string)\n",
    "    for guest in list_guests:\n",
    "        if ID == guest.get_ID():\n",
    "            list_guests.remove(guest)\n",
    "            print(f\"The guest with the ID {ID} has been eliminated\")\n",
    "            return OK\n",
    "            break\n",
    "    \n",
    "    print(f\"There is no guest with {ID} as the ID\")\n",
    "    return FAILURE\n",
    "\n",
    "def _save(): \n",
    "    \n",
    "    print(\"You have invoked the save function!\")\n",
    "    print(\"The changes you have made are now saved into the file guests_booking_system_updated.txt\")\n",
    "    f = open(\"guests_booking_system_updated.txt\", \"w\")\n",
    "    for guest in list_guests:\n",
    "        f.write(guest.write_file() + \"\\n\")\n",
    "    \n",
    "    return OK    \n",
    "\n",
    "def menu():\n",
    "    \n",
    "    print(\"Press 1 to display the guests and their information\")\n",
    "    print(\"Press 2 to add a new guest\")\n",
    "    print(\"Press 3 to remove a guest\")\n",
    "    print(\"Press 4 to save the list of guests to a file (this will update on disk any change you made)\")\n",
    "    print(\"Press 5 to exit the program\")\n",
    "    \n",
    "def validate(choice):\n",
    "    \n",
    "    if choice.isdigit() != True:\n",
    "        return FAILURE, choice\n",
    "    \n",
    "    choice = int(choice)\n",
    "    \n",
    "    if choice >= MIN and choice <= MAX:\n",
    "        return OK, choice\n",
    "    else: \n",
    "        return FAILURE, choice\n",
    "\n",
    "def _input():\n",
    "    \n",
    "    response = FAILURE \n",
    "    item = MAX\n",
    "    while response == FAILURE:\n",
    "        print()\n",
    "        menu()\n",
    "        print()\n",
    "        input_message = \"Introduce a number between \"+ str(MIN) + \" and \"+ str(MAX) + \" -> \"\n",
    "        item = input(input_message)\n",
    "        response, item = validate(item)\n",
    "        if response == FAILURE:\n",
    "            print()\n",
    "            print(f\"The input {item} is not correct, try again!\")\n",
    "            print()\n",
    "    \n",
    "    return item\n",
    "\n",
    "action = _input()\n",
    "while action >= MIN and action <= MAX:\n",
    "    print()\n",
    "    if action == DISPLAY:\n",
    "        _display()\n",
    "    else:\n",
    "        if action == ADD:\n",
    "            _add()\n",
    "        else:\n",
    "            if action == DELETE:\n",
    "                _delete()\n",
    "            else:\n",
    "                if action == SAVE:\n",
    "                    _save()\n",
    "                else:\n",
    "                    print(\"Goodbye!\")\n",
    "                    break\n",
    "    action = _input()"
   ]
  },
  {
   "cell_type": "markdown",
   "id": "9b8aa789",
   "metadata": {},
   "source": [
    "# Room Reservation\n",
    "\n",
    "The third class that I am going to implement is the Room Reservation Class where I will initiate all the attributes regarding the reservation of a room (reservation ID, hotel ID, guest ID, check-in, check-out, room type) and I will implement all the necessary methods to reserve a room in a hotel. \n",
    "There are three main methods in order to reserve a room:\n",
    "- book_room()\n",
    "- calculate_total_cost()\n",
    "- complete_reservation()\n",
    "- check_reservation_history()"
   ]
  },
  {
   "cell_type": "code",
   "execution_count": 13,
   "id": "557500fb",
   "metadata": {},
   "outputs": [],
   "source": [
    "class RoomReservation:\n",
    "    def __init__(self, reservation_ID, guest_ID):\n",
    "        \n",
    "        self.reservation_ID = reservation_ID\n",
    "        self.guest_ID = guest_ID\n",
    "        self.hotel_ID = None\n",
    "        self.check_in = None \n",
    "        self.check_out = None\n",
    "        self.room_type = None \n",
    "        self.total_cost = 0\n",
    "        self.reservationhistory = []\n",
    "        \n",
    "    def add_information_room(self, check_in, check_out):\n",
    "        \n",
    "        self.check_in = check_in #YYYY-MM-DD\n",
    "        self.check_out = check_out\n",
    "    \n",
    "    def book_room(self, room_type, hotel_ID):\n",
    "        \n",
    "        self.room_type = room_type\n",
    "        self.hotel_ID = hotel_ID\n",
    "        \n",
    "        global list_hotels\n",
    "        for hotel in list_hotels:\n",
    "            if hotel.get_ID() == self.hotel_ID:\n",
    "                if hotel.get_availablerooms() == \"0\": # I want to check if there are available rooms in the hotel\n",
    "                    print (f\"Sorry, there are not available rooms in the hotel with the following ID: {self.hotel_ID}\")\n",
    "                    break\n",
    "\n",
    "                elif int(hotel.get_availablerooms()) >= 1:\n",
    "                    print (f\"It is possible to reserve one room in the hotel with the ID {self.hotel_ID}\")\n",
    "                    hotel.update_availablerooms(str(int(hotel.get_availablerooms()) - 1))\n",
    "                    reservation_room = (self.reservation_ID, self.hotel_ID, self.room_type, self.check_in, self.check_out)\n",
    "                    self.reservationhistory.append(reservation_room)\n",
    "                    break\n",
    "        \n",
    "    def check_reservation_history(self):\n",
    "        \n",
    "        if not self.reservationhistory:\n",
    "            print (f\"There is no reservation history for the guest with the ID {self.guest_ID}\")\n",
    "        \n",
    "        else:\n",
    "            print (f\"I will now print the reservation history for the guest with the ID {self.guest_ID}\")\n",
    "            print()\n",
    "            for reservation_room in self.reservationhistory:\n",
    "                print (f\"Reservation ID : {reservation_room[0]}, Hotel ID : {reservation_room[1]}, Room Type : {reservation_room[2]}, Check-in: {reservation_room[3]}, Check-out: {reservation_room[4]}\")\n",
    "    \n",
    "    def calculate_total_cost(self):\n",
    "        \n",
    "        from datetime import datetime\n",
    "        check_in = datetime.strptime(self.check_in, \"%Y-%m-%d\").date()\n",
    "        check_out = datetime.strptime(self.check_out, \"%Y-%m-%d\").date()\n",
    "        duration = (check_out - check_in).days\n",
    "        \n",
    "        # hotels goes from 3 to 5 stars\n",
    "        cost_rooms3 = {\"Single\" : 30, \"Double\" : 45, \"Deluxe\" : 55}\n",
    "        cost_rooms4 = {\"Single\" : 40, \"Double\" : 55, \"Deluxe\" : 75}\n",
    "        cost_rooms5 = {\"Single\" : 50, \"Double\" : 65, \"Deluxe\" : 95}\n",
    "\n",
    "        for hotel in list_hotels:\n",
    "            \n",
    "            if self.hotel_ID == hotel.get_ID():\n",
    "                if int(hotel.get_star()) == 3:\n",
    "                    cost = cost_rooms3[self.room_type] # I implement a dictionary for the different costs of the rooms\n",
    "                    break\n",
    "                    \n",
    "                if int(hotel.get_star()) == 4:\n",
    "                    cost = cost_rooms4[self.room_type]\n",
    "                    break\n",
    "                    \n",
    "                if int(hotel.get_star()) == 5:\n",
    "                    cost = cost_rooms5[self.room_type]\n",
    "                    break\n",
    "        \n",
    "        self.total_cost = cost * duration\n",
    "        return print(f\"{self.total_cost} euros\")\n",
    "        \n",
    "    def complete_reservation(self, guest):\n",
    "        \n",
    "        info_name = guest.get_name()\n",
    "        message1 = f\"The reservation with ID {self.reservation_ID} has the following characteristics:\\n\"\n",
    "        message2 = f\"- The guest with ID {self.guest_ID} has booked a room in the hotel with ID {self.hotel_ID}\\n\"\n",
    "        message3 = f\"- Check-in: {self.check_in}\\n\"\n",
    "        message4 = f\"- Check-out: {self.check_out}\\n\"\n",
    "        message5 = f\"- Room Type: {self.room_type}\\n\"\n",
    "        message6 = f\"- Total Cost: {self.total_cost} euros\"\n",
    "        \n",
    "        final_message = print(message1 + message2 + message3 + message4 + message5 + message6)\n",
    "        \n",
    "        return final_message    "
   ]
  },
  {
   "cell_type": "markdown",
   "id": "40e8c5aa",
   "metadata": {},
   "source": [
    "I create a class useful to read every text document you want."
   ]
  },
  {
   "cell_type": "code",
   "execution_count": 14,
   "id": "11e230ef",
   "metadata": {},
   "outputs": [],
   "source": [
    "class ReadFile():\n",
    "    def __init__(self, filename):\n",
    "        \n",
    "        self.filename = filename\n",
    "        self.index = 0\n",
    "        \n",
    "    def read_rows(self):\n",
    "        \n",
    "        f = open(self.filename, \"r\")\n",
    "        row = f.readline()\n",
    "        print(\"[\", self.index, \"]\", row, end=\"\")\n",
    "        print()\n",
    "        while row: # until there are rows\n",
    "            row = f.readline()\n",
    "            if row:\n",
    "                self.index = self.index + 1\n",
    "                print(\"[\", self.index, \"]\", row, end='')\n",
    "                print()\n",
    "        f.close()"
   ]
  },
  {
   "cell_type": "markdown",
   "id": "c997650e",
   "metadata": {},
   "source": [
    "A guest books a room, selecting a hotel and room type.\n",
    "\n",
    "The system records the reservation details and updates the hotel’s available rooms.\n",
    "\n",
    "Upon check-out, the system calculates the total cost of the reservation."
   ]
  },
  {
   "cell_type": "code",
   "execution_count": 15,
   "id": "35447e53",
   "metadata": {},
   "outputs": [],
   "source": [
    "# hotel1 --> 45125 \n",
    "# I simulate the event by using hotel1 that has ID of 45125 \n",
    "# Hotel1 has 4 stars and initially has 10 available rooms \n",
    "# The guest that I will use is Matteo with ID 1\n",
    "\n",
    "# I call the Guest class to define the guest Matteo\n",
    "Matteo = Guest(1)\n",
    "Matteo.add_information(\"Matteo\", \"matteo@gmail.com\")\n",
    "\n",
    "# I call the Room Reservation class to start the process of reserving a room\n",
    "matteo_reservation = RoomReservation(12, 1)\n",
    "matteo_reservation.add_information_room(\"2023-03-06\", \"2023-03-12\")"
   ]
  },
  {
   "cell_type": "code",
   "execution_count": 16,
   "id": "761484e0",
   "metadata": {},
   "outputs": [
    {
     "name": "stdout",
     "output_type": "stream",
     "text": [
      "It is possible to reserve one room in the hotel with the ID 45125\n"
     ]
    }
   ],
   "source": [
    "# I book a room \n",
    "matteo_reservation.book_room(\"Single\", 45125)"
   ]
  },
  {
   "cell_type": "code",
   "execution_count": 17,
   "id": "cd48e370",
   "metadata": {},
   "outputs": [
    {
     "name": "stdout",
     "output_type": "stream",
     "text": [
      "240 euros\n"
     ]
    }
   ],
   "source": [
    "# I calculate the total cost of the room\n",
    "matteo_reservation.calculate_total_cost()"
   ]
  },
  {
   "cell_type": "code",
   "execution_count": 18,
   "id": "3d1af99a",
   "metadata": {},
   "outputs": [
    {
     "data": {
      "text/plain": [
       "'9'"
      ]
     },
     "execution_count": 18,
     "metadata": {},
     "output_type": "execute_result"
    }
   ],
   "source": [
    "# I show the number of available rooms of the hotel after having booked one\n",
    "hotel1.get_availablerooms()"
   ]
  },
  {
   "cell_type": "code",
   "execution_count": 19,
   "id": "da5ab728",
   "metadata": {},
   "outputs": [
    {
     "name": "stdout",
     "output_type": "stream",
     "text": [
      "The reservation with ID 12 has the following characteristics:\n",
      "- The guest with ID 1 has booked a room in the hotel with ID 45125\n",
      "- Check-in: 2023-03-06\n",
      "- Check-out: 2023-03-12\n",
      "- Room Type: Single\n",
      "- Total Cost: 240 euros\n"
     ]
    }
   ],
   "source": [
    "# I complete the reservation and print all the information \n",
    "matteo_reservation.complete_reservation(Matteo)"
   ]
  },
  {
   "cell_type": "code",
   "execution_count": 20,
   "id": "91143427",
   "metadata": {},
   "outputs": [
    {
     "name": "stdout",
     "output_type": "stream",
     "text": [
      "I will now print the reservation history for the guest with the ID 1\n",
      "\n",
      "Reservation ID : 12, Hotel ID : 45125, Room Type : Single, Check-in: 2023-03-06, Check-out: 2023-03-12\n"
     ]
    }
   ],
   "source": [
    "# I check the reservation history for the guest Matteo\n",
    "matteo_reservation.check_reservation_history()"
   ]
  }
 ],
 "metadata": {
  "kernelspec": {
   "display_name": "Python 3 (ipykernel)",
   "language": "python",
   "name": "python3"
  },
  "language_info": {
   "codemirror_mode": {
    "name": "ipython",
    "version": 3
   },
   "file_extension": ".py",
   "mimetype": "text/x-python",
   "name": "python",
   "nbconvert_exporter": "python",
   "pygments_lexer": "ipython3",
   "version": "3.11.5"
  }
 },
 "nbformat": 4,
 "nbformat_minor": 5
}
